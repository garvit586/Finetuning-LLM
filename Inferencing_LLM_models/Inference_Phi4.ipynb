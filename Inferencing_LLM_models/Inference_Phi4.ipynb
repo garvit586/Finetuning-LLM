{
 "cells": [
  {
   "cell_type": "code",
   "execution_count": 7,
   "id": "6ac399e5-3070-423c-86ba-dab7e5c6b52e",
   "metadata": {},
   "outputs": [
    {
     "name": "stderr",
     "output_type": "stream",
     "text": [
      "huggingface/tokenizers: The current process just got forked, after parallelism has already been used. Disabling parallelism to avoid deadlocks...\n",
      "To disable this warning, you can either:\n",
      "\t- Avoid using `tokenizers` before the fork if possible\n",
      "\t- Explicitly set the environment variable TOKENIZERS_PARALLELISM=(true | false)\n"
     ]
    },
    {
     "name": "stdout",
     "output_type": "stream",
     "text": [
      "Collecting numpy<2\n",
      "  Downloading numpy-1.26.4-cp310-cp310-manylinux_2_17_x86_64.manylinux2014_x86_64.whl (18.2 MB)\n",
      "\u001b[2K     \u001b[90m━━━━━━━━━━━━━━━━━━━━━━━━━━━━━━━━━━━━━━━━\u001b[0m \u001b[32m18.2/18.2 MB\u001b[0m \u001b[31m83.3 MB/s\u001b[0m eta \u001b[36m0:00:00\u001b[0m00:01\u001b[0m00:01\u001b[0m\n",
      "\u001b[?25hInstalling collected packages: numpy\n",
      "  Attempting uninstall: numpy\n",
      "    Found existing installation: numpy 2.2.4\n",
      "    Uninstalling numpy-2.2.4:\n",
      "      Successfully uninstalled numpy-2.2.4\n",
      "\u001b[31mERROR: Could not install packages due to an OSError: [Errno 16] Device or resource busy: '.nfs4b7b08b22a8b7e1f00000006'\n",
      "\u001b[0m\u001b[31m\n",
      "\u001b[0m\n",
      "\u001b[1m[\u001b[0m\u001b[34;49mnotice\u001b[0m\u001b[1;39;49m]\u001b[0m\u001b[39;49m A new release of pip is available: \u001b[0m\u001b[31;49m23.0.1\u001b[0m\u001b[39;49m -> \u001b[0m\u001b[32;49m25.0.1\u001b[0m\n",
      "\u001b[1m[\u001b[0m\u001b[34;49mnotice\u001b[0m\u001b[1;39;49m]\u001b[0m\u001b[39;49m To update, run: \u001b[0m\u001b[32;49mpip install --upgrade pip\u001b[0m\n"
     ]
    }
   ],
   "source": [
    "!pip install 'numpy<2'"
   ]
  },
  {
   "cell_type": "code",
   "execution_count": 2,
   "id": "17d8dc80-885d-4f3c-b30f-6337c0b8749b",
   "metadata": {},
   "outputs": [],
   "source": [
    "import os\n",
    "import json\n",
    "import imagesize\n",
    "import torch\n",
    "import glob\n",
    "import random\n",
    "import cv2\n",
    "import numpy as np\n",
    "from torch.utils.data import Dataset, RandomSampler, DataLoader, Sampler\n",
    "from tqdm import tqdm\n",
    "from transformers import AutoTokenizer, AutoModelForCausalLM, BitsAndBytesConfig, AutoConfig\n",
    "import pickle\n",
    "from collections import defaultdict\n",
    "# In[2]:\n",
    "\n",
    "\n",
    "from peft import LoraConfig, get_peft_model, TaskType\n",
    "import transformers\n",
    "# from transformers import AdamW\n",
    "from accelerate import Accelerator\n",
    "from transformers import AutoTokenizer, AutoModelForCausalLM, pipeline\n",
    "import bitsandbytes as bnb\n",
    "from transformers import Trainer, TrainingArguments"
   ]
  },
  {
   "cell_type": "markdown",
   "id": "f801467b-9454-4426-9f40-2f9b6e565c74",
   "metadata": {},
   "source": [
    "## Microsoft Phi_4_instruct"
   ]
  },
  {
   "cell_type": "code",
   "execution_count": 3,
   "id": "3b77fbaf-1f8f-403e-9a60-629e8f12db13",
   "metadata": {},
   "outputs": [],
   "source": [
    "## tokenizer\n",
    "\n",
    "local_cache = './phi_4_model/'\n",
    "name = \"microsoft/Phi-4-mini-instruct\"\n",
    "# local_cache = './mistral_models'\n",
    "# name = \"mistralai/Mistral-7B-Instruct-v0.3\"\n",
    "\n",
    "#http://localhost:8889/edit/mnt/efs/RaghavWork/VirtualENV/1shot/lib/python3.10/site-packages/transformers/models/mistral/modeling_mistral.py\n",
    "# Load tokenizer\n",
    "tokenizer = AutoTokenizer.from_pretrained(name, cache_dir=local_cache)\n",
    "tokenizer.pad_token = tokenizer.eos_token  # For causal LM"
   ]
  },
  {
   "cell_type": "code",
   "execution_count": 4,
   "id": "b01aeeba-88b9-4df1-a032-47e3411e98da",
   "metadata": {},
   "outputs": [
    {
     "data": {
      "application/vnd.jupyter.widget-view+json": {
       "model_id": "9fa7c2718ff742618a342d45d35abb7a",
       "version_major": 2,
       "version_minor": 0
      },
      "text/plain": [
       "Loading checkpoint shards:   0%|          | 0/2 [00:00<?, ?it/s]"
      ]
     },
     "metadata": {},
     "output_type": "display_data"
    }
   ],
   "source": [
    "model = AutoModelForCausalLM.from_pretrained(\n",
    "    name,\n",
    "    cache_dir=local_cache,\n",
    "    device_map=\"auto\",\n",
    "    torch_dtype=\"auto\",\n",
    "    trust_remote_code=True,\n",
    ")"
   ]
  },
  {
   "cell_type": "code",
   "execution_count": 8,
   "id": "76adb03f-dc8f-4847-b6b0-ba19e2bc76cb",
   "metadata": {},
   "outputs": [],
   "source": [
    "messages = [\n",
    "    {\"role\": \"system\", \"content\": \"You are a helpful AI assistant.Your task is to extract key-value information from the document. Refer to the example input and output and then return the output for the new input. Don't produce any note or other informtion at end\"},\n",
    "    {\"role\": \"user\", \"content\": \"Input: Southampton , United Kingdom 9403.60 7,342.50 kg AMS Ref . No. 125 CARTONS TCLU8883933 PO FLEX - 2669545 FLXT - 2669545-3215367 Flexport Carrier Booking Operations FLEXPORT INTERNATIONAL B.V. VIJZELSTRAAT 68 , 1017 HL AMSTERDAM NETHERLANDS ARRIVALNOTICES_EU@FLEXPORT.COM Flexport's terms and conditions of service pursuant to this bill of lading or when acting in the capacity of a non - - operating common Loaded on Board carrier are incorporated by reference and can be found at https://www.flexport.com/terms-and-conditions/ . Additionally Additionally for all Sea Waybills Waybills the CMI Uniform Rules for Sea Waybills shall also apply ( and shall govern in accordance with Flexport's terms and conditions conditions ) pursuant to Jun 04 , 2024 which Shipper irrevocably relinquishes its right to control over the shipment by authorizing Flexport to proceed with the issuance of a Sea Waybill . International LLC By By Flexport As Carrier FMC FMC OTI No. 025219NF X Jun 04 , 2024 COPY BILL OF LADING FOR PORT - TO - PORT OR COMBINED TRANSPORT , , , . Pre - carriage By flexport . Agent Reference Number Point of Origin / FTZ Number Containerized FCL Marks and Numbers No. of Containers Description of Packages and Goods Said to Contain - Shipper's Load Stow & Count ( SLAC ) 1 x 40 ft HC Dry Container SLAC 125 CARTONS Total PO # 4127786 HS CODE : 9403.60 , 45 CTNS / 2902.5 KGS / 28.08 CBM HLM002 HELMER BLACKENED OAK LARGE TV UNIT . , 80 CTNS / 4440 KGS / 38.8 CBM SLAC 7,342.50 kg 66.880 cbm Declared Value Containers Carrier's receipt . Total number of containers or packages received by carrier : 1 container ( s ) vessel , , , : - Freight Charges ( and description ) Freight Collect This bill of lading is subject to Flexport's standard terms and conditions of carriage , which appear hereof as page 2 Page 1 of 2 Number Bill of Lading ONEYHKGE93028600 Southampton , United Kingdom Vessel & Voyage SAME AS CNEE CNCS20288 Measurement Notify Party HOARE GROUP LIMITED 3000A Parkway Parkway Whiteley Whiteley Hampshire , PO15 7FX 7FX United Kingdom FLXT - 00002669545B Seal shipped to Consignee / FLXT00002669545B FURNITURE HLM001 HELMER BLACKENED OAK 4 DOORS SIDEBOARD , Container China , Yantian Shipped From Exporter / Port of Loading HS CODE : Special Instructions Booking Number NRA Number Place of Pickup Forwarding Agent Destination Agent B / L Issue Date 028W - AL JMELIYAH Places of Delivery Gross Weight 4127786 MBL Ref Ref No. Port of Unloading CY - CY 66.880 cbm Ltd Direct Buy It TRIDENT BUSINESS PARK / NEPTUNE WAY / LEEDS RD , , HUDDERSFIELD , HD2 1UA , United Kingdom\"},\n",
    "    {\"role\": \"assistant\", \"content\": \"Output: {'UNLADING_PORT': 'Southampton , United Kingdom', 'HTS_NUMBER': '9403.60', 'GROSS_WEIGHT': '7,342.50 kg', 'NUMBER_OF_PACKAGES': '125 CARTONS', 'CONTAINER_NUMBER': 'TCLU8883933', 'MASTER_BILL_OF_LADING': 'ONEYHKGE93028600', 'PLACE_OF_DELIVERY': 'Southampton , United Kingdom', 'NOTIFY_PARTY': 'SAME AS CNEE', 'SEAL_NUMBER': 'CNCS20288', 'SHIPPER': 'HOARE GROUP LIMITED 3000A Parkway Parkway Whiteley Whiteley Hampshire , PO15 7FX 7FX United Kingdom', 'BILL_OF_LADING': 'FLXT - 00002669545B', 'AMS_BL': 'FLXT00002669545B', 'PRODUCT_DESCRIPTION': 'FURNITURE HLM001 HELMER BLACKENED OAK 4 DOORS SIDEBOARD ,', 'LADING_PORT': 'China , Yantian', 'VESSEL_VOYAGE': '028W - AL JMELIYAH', 'PO_NUMBER': '4127786', 'CONTRACT_OF_CARRIAGE': 'CY - CY', 'VOLUME': 'cbm 66.880', 'CONSIGNEE': 'Ltd Direct Buy It TRIDENT BUSINESS PARK / NEPTUNE WAY / LEEDS RD , , HUDDERSFIELD , HD2 1UA , United Kingdom'}\"},\n",
    "    {\"role\": \"user\", \"content\": \"New Input: Southampton , United Kingdom 5,540.00 kg 11,056.00 kg AMS Ref . No. 1854 CARTONS YMMU6326692 PO PO FLEXPORT INTERNATIONAL B.V. VIJZELSTRAAT 68 , 1017 HL AMSTERDAM NETHERLANDS ARRIVALNOTICES_EU@FLEXPORT.COM CML Grandsight Supply Chain Management Co. , Ltd . ( PREPAYMENT PREPAYMENT FLXT - 2617825-3170083 FLEX - 2617825 Flexport's terms and conditions of service pursuant to this bill of lading or when acting in the capacity of a non - - operating common Loaded on Board carrier are incorporated by reference and can be found at https://www.flexport.com/terms-and-conditions/ . Additionally Additionally for all Sea Waybills , the CMI Uniform Rules for Sea Waybills shall also apply ( ( shall govern in accordance with Flexport's terms and conditions ) ) pursuant to Apr 22 22 2024 which Shipper irrevocably relinquishes its right to control over the shipment by authorizing Flexport to proceed with the issuance of a Sea Waybill . By By Flexport International LLC As Carrier FMC - OTI No. 025219NF This bill of lading is subject to Flexport's standard terms and conditions of carriage , which appear hereof as page 2 Page 1 of 3 COPY BILL OF LADING FOR PORT - TO - PORT OR COMBINED TRANSPORT flexport . Place of Pickup B / L Issue Date Apr 25 , 2024 Pre - carriage By Neptune Leeds / Leeds ) Agent Reference Number Point of Origin / FTZ Number Marks and Numbers No. of Containers Said to Contain - Shipper's Load Stow & Count ( SLAC ) 1 x 40 ft HC Dry Container SLAC 197 CARTONS N / M 1 x 40 ft HC Dry N / M See attached pages for more container information Total Container SLAC 366 CARTONS SLAC 47,890.00 kg 357.950 cbm Declared Value Containers Carrier's receipt . Total number of containers or packages received by carrier : 5 container ( s ) vessel , and , : Freight Charges ( and description ) Freight Collect , Number Bill of Lading YMJAN235174064 Southampton , United Kingdom Vessel & Voyage Ltd. It Direct Buy Address : Trident Business Park Park Neptune Way / / Rd , Huddersfield HD2 1UA Phone : 0871 971 0779 YMAR267106 YMAR267193 Measurement Measurement Notify Party TIANJIN CONTE IMPORT & EXPORT TRADING CO . , LTD B - 704-2 HAITAI BUILDING , NO.6 HUATIAN ROAD , HUAYUAN INDUSTRIAL AREA TIANJIN , CHINA FLXT - 00002617825A Seal Seal Description of Packages and Goods Description of Packages and Goods Container Containerized shipped to Consignee / FLXT00002617825A SOFA BED BED SIDEBOARD Container Tianjin Xingang Shipped From Exporter / Port of Loading Special Instructions Destination Agent Forwarding Agent NRA Number Booking Number HMM SOUTHAMPTON - 013W Places of Delivery Gross Weight Gross Weight 399310 4017189 MBL Ref . No. Port of Unloading CY - CY 70.510 cbm 68.580 cbm YMMU6077835 FCL Ltd. Direct Buy It Address : Trident Business Park / / Way / / Rd , Huddersfield HD2 1UA Phone : 0871 971 0779\"},\n",
    "]"
   ]
  },
  {
   "cell_type": "code",
   "execution_count": 9,
   "id": "6a0d9ec9-b72b-4259-a8a2-d227d3322f63",
   "metadata": {},
   "outputs": [
    {
     "name": "stderr",
     "output_type": "stream",
     "text": [
      "Device set to use cuda:0\n"
     ]
    }
   ],
   "source": [
    "pipe = pipeline(\n",
    "    \"text-generation\",\n",
    "    model=model,\n",
    "    tokenizer=tokenizer,\n",
    ")\n",
    " \n",
    "generation_args = {\n",
    "    \"max_new_tokens\": 500,\n",
    "    \"return_full_text\": False,\n",
    "    \"temperature\": 0.0,\n",
    "    \"do_sample\": False,\n",
    "}\n"
   ]
  },
  {
   "cell_type": "code",
   "execution_count": 10,
   "id": "29650e5d-dfc5-4cc9-84bf-fb4ee573af57",
   "metadata": {},
   "outputs": [
    {
     "name": "stdout",
     "output_type": "stream",
     "text": [
      "Output: {'UNLADING_PORT': 'Southampton, United Kingdom', 'HTS_NUMBER': '9403.60', 'GROSS_WEIGHT': '5,540.00 kg', 'NUMBER_OF_PACKAGES': '11,056.00 kg', 'CONTAINER_NUMBER': '1854 CARTONS', 'MASTER_BILL_OF_LADING': 'YMJAN235174064', 'PLACE_OF_DELIVERY': 'Southampton, United Kingdom', 'NOTIFY_PARTY': 'Tianjin Contex Import & Export Trading Co., LTD B - 704-2 HAITAI BUILDING, NO.6 HUATIAN ROAD, HUAYUAN INDUSTRIAL AREA TIANJIN, CHINA', 'VESSEL_VOYAGE': '013W', 'PO_NUMBER': '399310 4017189', 'CONTRACT_OF_CARRIAGE': 'CY - CY', 'VOLUME': 'cbm 70.510 68.580', 'CONSIGNEE': 'FCL Ltd. Direct Buy It Address : Trident Business Park / / Way / / Rd, Huddersfield HD2 1UA Phone : 0871 971 0779'}\n"
     ]
    }
   ],
   "source": [
    "output = pipe(messages, **generation_args)\n",
    "print(output[0]['generated_text'])"
   ]
  },
  {
   "cell_type": "code",
   "execution_count": null,
   "id": "1b2c29dc-5ac7-4eb2-91b8-e58472e06796",
   "metadata": {},
   "outputs": [],
   "source": []
  },
  {
   "cell_type": "code",
   "execution_count": null,
   "id": "7c85d25d-ceaa-4c34-a039-a6c3ab69dc08",
   "metadata": {},
   "outputs": [],
   "source": []
  }
 ],
 "metadata": {
  "kernelspec": {
   "display_name": "llm_venv",
   "language": "python",
   "name": "llm_venv"
  },
  "language_info": {
   "codemirror_mode": {
    "name": "ipython",
    "version": 3
   },
   "file_extension": ".py",
   "mimetype": "text/x-python",
   "name": "python",
   "nbconvert_exporter": "python",
   "pygments_lexer": "ipython3",
   "version": "3.10.12"
  }
 },
 "nbformat": 4,
 "nbformat_minor": 5
}
